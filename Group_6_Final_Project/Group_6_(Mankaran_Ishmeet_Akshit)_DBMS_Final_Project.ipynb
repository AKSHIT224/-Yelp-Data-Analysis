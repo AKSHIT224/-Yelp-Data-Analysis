{
  "cells": [
    {
      "cell_type": "markdown",
      "metadata": {
        "id": "EOos8EKUXaiR"
      },
      "source": [
        "# CMPT 2091 Final Project: Data Management and Analysis with Yelp API and Apache Spark\n",
        "\n",
        "Group Members:\n",
        "Mankaran Singh,\n",
        "Ishmeet Singh,\n",
        "Akshit Bhandari,\n",
        "\n",
        "File Name should include all the names of your group members - FirstName_LastName_DBMS_Final_Project.ipynb"
      ]
    },
    {
      "cell_type": "code",
      "source": [
        "!pip install pyspark\n",
        "!pip install findspark"
      ],
      "metadata": {
        "colab": {
          "base_uri": "https://localhost:8080/"
        },
        "id": "g0gtPokLsMfc",
        "outputId": "88b6318f-f306-44d0-9363-02c958e1aac0"
      },
      "execution_count": 1,
      "outputs": [
        {
          "output_type": "stream",
          "name": "stdout",
          "text": [
            "Requirement already satisfied: pyspark in /usr/local/lib/python3.10/dist-packages (3.5.3)\n",
            "Requirement already satisfied: py4j==0.10.9.7 in /usr/local/lib/python3.10/dist-packages (from pyspark) (0.10.9.7)\n",
            "Collecting findspark\n",
            "  Downloading findspark-2.0.1-py2.py3-none-any.whl.metadata (352 bytes)\n",
            "Downloading findspark-2.0.1-py2.py3-none-any.whl (4.4 kB)\n",
            "Installing collected packages: findspark\n",
            "Successfully installed findspark-2.0.1\n"
          ]
        }
      ]
    },
    {
      "cell_type": "markdown",
      "metadata": {
        "id": "WjvIiVK9X5Li"
      },
      "source": [
        "### **Part One: Data Collection with Yelp API**\n",
        "\n",
        "\n",
        "1.1 - Setup Yelp API\n",
        "Before collecting data, you'll need to set up access to the Yelp API. Make sure you have your API key as outlined in the final project assignment document."
      ]
    },
    {
      "cell_type": "code",
      "execution_count": 3,
      "metadata": {
        "id": "W9xF6Rz-ZLkn"
      },
      "outputs": [],
      "source": [
        "# Set up the Yelp API Key\n",
        "api_key = '2xrdN0XvwNoiYGUf6UkoDYeEfFjfvDAOAnS1jzmo6WVGNvEeFmdYsme-LZurANfbOG9ijS08hU2ji_t4xElnxD9v2WpWp84UbVWVJ-1FyZcFMXyJSea8HCr6EQhRZ3Yx'  # Replace with your API key\n",
        "\n",
        "# Yelp API endpoint for Business Search\n",
        "endpoint_url = 'https://api.yelp.com/v3/businesses/search'\n",
        "\n",
        "# Headers for authenticating the API request\n",
        "headers = {\n",
        "    'Authorization': f'Bearer {api_key}',\n",
        " }"
      ]
    },
    {
      "cell_type": "markdown",
      "metadata": {
        "id": "QB9rO42cZ4Ln"
      },
      "source": [
        "1.2 - Making an API Request and Extracting Data\n",
        "Use the Yelp API to fetch data based on your business idea. Adjust the parameters as necessary (location, categories, price range, etc.)."
      ]
    },
    {
      "cell_type": "code",
      "execution_count": 10,
      "metadata": {
        "id": "hiPmvDExZ7pu",
        "colab": {
          "base_uri": "https://localhost:8080/"
        },
        "outputId": "5cdf060d-1a2d-463c-c0b2-b914dd1fb0e6"
      },
      "outputs": [
        {
          "output_type": "stream",
          "name": "stdout",
          "text": [
            "Fetching data for Location: San Jose\n",
            "Fetching data with offset 0 for San Jose\n",
            "Fetching data with offset 50 for San Jose\n",
            "Fetching data with offset 100 for San Jose\n",
            "Fetching data with offset 150 for San Jose\n",
            "Fetching data for Location: Sunnyvale\n",
            "Fetching data with offset 0 for Sunnyvale\n",
            "Fetching data with offset 50 for Sunnyvale\n",
            "Fetching data with offset 100 for Sunnyvale\n",
            "Fetching data with offset 150 for Sunnyvale\n",
            "Fetching data for Location: Santa Clara\n",
            "Fetching data with offset 0 for Santa Clara\n",
            "Fetching data with offset 50 for Santa Clara\n",
            "Fetching data with offset 100 for Santa Clara\n",
            "Fetching data with offset 150 for Santa Clara\n",
            "Fetching data for Location: Mountain View\n",
            "Fetching data with offset 0 for Mountain View\n",
            "Fetching data with offset 50 for Mountain View\n",
            "Fetching data with offset 100 for Mountain View\n",
            "Fetching data with offset 150 for Mountain View\n",
            "Fetching data for Location: Palo Alto\n",
            "Fetching data with offset 0 for Palo Alto\n",
            "Fetching data with offset 50 for Palo Alto\n",
            "Fetching data with offset 100 for Palo Alto\n",
            "Fetching data with offset 150 for Palo Alto\n",
            "Data fetching complete.\n",
            "<class 'pandas.core.frame.DataFrame'>\n",
            "RangeIndex: 1000 entries, 0 to 999\n",
            "Data columns (total 18 columns):\n",
            " #   Column          Non-Null Count  Dtype  \n",
            "---  ------          --------------  -----  \n",
            " 0   id              1000 non-null   object \n",
            " 1   alias           1000 non-null   object \n",
            " 2   name            1000 non-null   object \n",
            " 3   image_url       1000 non-null   object \n",
            " 4   is_closed       1000 non-null   bool   \n",
            " 5   url             1000 non-null   object \n",
            " 6   review_count    1000 non-null   int64  \n",
            " 7   categories      1000 non-null   object \n",
            " 8   rating          1000 non-null   float64\n",
            " 9   coordinates     1000 non-null   object \n",
            " 10  transactions    1000 non-null   object \n",
            " 11  price           693 non-null    object \n",
            " 12  location        1000 non-null   object \n",
            " 13  phone           1000 non-null   object \n",
            " 14  display_phone   1000 non-null   object \n",
            " 15  distance        1000 non-null   float64\n",
            " 16  business_hours  1000 non-null   object \n",
            " 17  attributes      1000 non-null   object \n",
            "dtypes: bool(1), float64(2), int64(1), object(14)\n",
            "memory usage: 133.9+ KB\n"
          ]
        }
      ],
      "source": [
        "import requests\n",
        "import pandas as pd\n",
        "\n",
        "# Define the search parameters (customize based on your business idea)\n",
        "params = {\n",
        "    'term': 'restaurants',        # You can change the search term\n",
        "    'limit': 50,                  # Max results per request\n",
        "}\n",
        "\n",
        "locations = [\"San Jose\", \"Sunnyvale\", \"Santa Clara\", \"Mountain View\", \"Palo Alto\"]\n",
        "\n",
        "required_dataset = []\n",
        "\n",
        "for location in locations:\n",
        "    print(f\"Fetching data for Location: {location}\")\n",
        "    params['location'] = location\n",
        "\n",
        "    offset = 0\n",
        "    while offset + params['limit'] <= 240:\n",
        "        params['offset'] = offset\n",
        "        print(f\"Fetching data with offset {offset} for {location}\")\n",
        "\n",
        "        response = requests.get(endpoint_url, headers=headers, params=params)\n",
        "        if response.status_code != 200:\n",
        "            print(f\"Error: {response.status_code}, {response.text}\")\n",
        "            break\n",
        "\n",
        "        data = response.json()\n",
        "        businesses = data.get(\"businesses\", [])\n",
        "        required_dataset.extend(businesses)\n",
        "\n",
        "        if len(businesses) < params['limit']:\n",
        "            print(f\"Fetched all data for {location}. Stopping.\")\n",
        "            break\n",
        "\n",
        "        offset += params['limit']\n",
        "\n",
        "df_all_data = pd.DataFrame(required_dataset)\n",
        "print(\"Data fetching complete.\")\n",
        "df_all_data.info()\n"
      ]
    },
    {
      "cell_type": "markdown",
      "metadata": {
        "id": "SsGqwFtIaN90"
      },
      "source": [
        "1.3 - Save Data to CSV\n",
        "Once the data is collected, save it to a CSV file for future use."
      ]
    },
    {
      "cell_type": "code",
      "execution_count": 13,
      "metadata": {
        "id": "sFskfCyJaO0_",
        "colab": {
          "base_uri": "https://localhost:8080/"
        },
        "outputId": "bc8803d4-ea2d-4523-d43a-58be81f51733"
      },
      "outputs": [
        {
          "output_type": "stream",
          "name": "stdout",
          "text": [
            "Finished collecting data. A total of 1000 records have been saved to yelp_restaurants_data.csv.\n"
          ]
        }
      ],
      "source": [
        "# Save the extracted data into a CSV file\n",
        "df_all_data.to_csv('yelp_restaurants_data.csv', index=False)\n",
        "print(f\"Finished collecting data. A total of {len(df_all_data)} records have been saved to yelp_restaurants_data.csv.\")"
      ]
    },
    {
      "cell_type": "code",
      "source": [
        "from google.colab import files\n",
        "files.download(\"yelp_restaurants_data.csv\")"
      ],
      "metadata": {
        "colab": {
          "base_uri": "https://localhost:8080/",
          "height": 17
        },
        "id": "i36E4LUp3WAr",
        "outputId": "58108171-7a50-4e19-e635-12508511b205"
      },
      "execution_count": 15,
      "outputs": [
        {
          "output_type": "display_data",
          "data": {
            "text/plain": [
              "<IPython.core.display.Javascript object>"
            ],
            "application/javascript": [
              "\n",
              "    async function download(id, filename, size) {\n",
              "      if (!google.colab.kernel.accessAllowed) {\n",
              "        return;\n",
              "      }\n",
              "      const div = document.createElement('div');\n",
              "      const label = document.createElement('label');\n",
              "      label.textContent = `Downloading \"${filename}\": `;\n",
              "      div.appendChild(label);\n",
              "      const progress = document.createElement('progress');\n",
              "      progress.max = size;\n",
              "      div.appendChild(progress);\n",
              "      document.body.appendChild(div);\n",
              "\n",
              "      const buffers = [];\n",
              "      let downloaded = 0;\n",
              "\n",
              "      const channel = await google.colab.kernel.comms.open(id);\n",
              "      // Send a message to notify the kernel that we're ready.\n",
              "      channel.send({})\n",
              "\n",
              "      for await (const message of channel.messages) {\n",
              "        // Send a message to notify the kernel that we're ready.\n",
              "        channel.send({})\n",
              "        if (message.buffers) {\n",
              "          for (const buffer of message.buffers) {\n",
              "            buffers.push(buffer);\n",
              "            downloaded += buffer.byteLength;\n",
              "            progress.value = downloaded;\n",
              "          }\n",
              "        }\n",
              "      }\n",
              "      const blob = new Blob(buffers, {type: 'application/binary'});\n",
              "      const a = document.createElement('a');\n",
              "      a.href = window.URL.createObjectURL(blob);\n",
              "      a.download = filename;\n",
              "      div.appendChild(a);\n",
              "      a.click();\n",
              "      div.remove();\n",
              "    }\n",
              "  "
            ]
          },
          "metadata": {}
        },
        {
          "output_type": "display_data",
          "data": {
            "text/plain": [
              "<IPython.core.display.Javascript object>"
            ],
            "application/javascript": [
              "download(\"download_9e0afde1-861d-4c54-8d1e-b753e43dd746\", \"yelp_restaurants_data.csv\", 1507509)"
            ]
          },
          "metadata": {}
        }
      ]
    },
    {
      "cell_type": "markdown",
      "metadata": {
        "id": "G0pM21WPaUrz"
      },
      "source": [
        "**1.4 - Business Idea Explanation**\n",
        "\n",
        "In this section, explain the business idea and why the data points (like business name, rating, price, etc.) are important for your application."
      ]
    },
    {
      "cell_type": "markdown",
      "metadata": {
        "id": "aZv2wzrua9T8"
      },
      "source": [
        "### Business Idea: Restaurant Recommendation System\n",
        "\n",
        "Explain the purpose of your application and how the Yelp data you extracted will be used to support it. For example:\n",
        "\n",
        "- **Business Idea**: The business idea is to build the working prototype of the Restaurant Recommendation System that would allow to find the optimal restaurants for travelers with regard to their preferences and location. Precisely this application allows for a quick decision since the users will be offered great restaurants to have a meal in.\n",
        "- **Purpose of the Application:**: Using Yelp data, the system will determine the restaurants with the close proximity to the user’s preferences of ratings, price and categories. This makes it possible for clients to find and select restaurants in unknown territories.\n",
        "- **Data Features Extracted**: Business name, ratings, price range, categories, and location.\n",
        "\n",
        "These features are important because:\n",
        "- **Business Name**\n",
        "1. Aids in showing and giving an account of the restaurants in the recommendations.\n",
        "2. Always gives travelers clear signs to identify or make judgment on what is available to them.\n",
        "- **Ratings**\n",
        "1. The performance of a particular business is essential in leveraging on ratings for filtering and recommendation.\n",
        "2. They make sure the user receives only the restaurant with the best reviews.\n",
        "- **Price**\n",
        "1. Allows users to look for restaurants within a specific financial capability that a person has.\n",
        "2. Factors into suggestions both more appropriate and reasonably priced.\n",
        "- **Categories**\n",
        "1. They assist segmentate group businesses based on cuisine type (Italian, vegan, Mexican, etc).\n",
        "2. It enables people to either type in their preferred cuisine or choose one in order to get recommendations.\n",
        "- **Location**\n",
        "1. Separation of multiple coordinates by comma in a coordinate column along with latitude and longitude enables suggestions of restaurants nearby the user’s current location.\n",
        "2. Helps those that are lost in look for dining areas they need in their regions of interest.\n",
        "- **Distance**\n",
        "1. Less commonly, it determines how close a restaurant is to the user.\n",
        "2. Applied to sort recommendations regarding distance, so that people will find it easy to pay a visit.\n",
        "\n",
        "**Example of the System in Action:**\n",
        "A person visiting a new city urgently needs to choose an Italian restaurant with a high rating and an average check. The system will:\n",
        "\n",
        "1. To highlight the Italian restaurants use the categories column.\n",
        "2. Expand the opportunities for filtering using the Price option with reference to the cost offered by the service, corresponding to the user’s budget.\n",
        "3. Order restaurants by the value that is in the rating column.\n",
        "4. Click on the ‘distance’ column head to ensure that only related options nearer to the place of work come up on the screen.\n",
        "5. Show the name of restaurant and its coordinate for the purpose of orientation.\n"
      ]
    },
    {
      "cell_type": "markdown",
      "metadata": {
        "id": "MTzGgbA4hl2d"
      },
      "source": [
        "# **Part Two: Data Management with Apache Spark**\n",
        "**2.1- Setting Up PySpark**\n",
        "\n",
        "Now that we have the Yelp data, we'll set up Apache Spark to handle large datasets."
      ]
    },
    {
      "cell_type": "code",
      "execution_count": 17,
      "metadata": {
        "id": "FMWP5JDGhoam",
        "colab": {
          "base_uri": "https://localhost:8080/",
          "height": 219
        },
        "outputId": "94a735f5-b59d-4eed-be83-95bc689a81d7"
      },
      "outputs": [
        {
          "output_type": "execute_result",
          "data": {
            "text/plain": [
              "<pyspark.sql.session.SparkSession at 0x7f4015361780>"
            ],
            "text/html": [
              "\n",
              "            <div>\n",
              "                <p><b>SparkSession - in-memory</b></p>\n",
              "                \n",
              "        <div>\n",
              "            <p><b>SparkContext</b></p>\n",
              "\n",
              "            <p><a href=\"http://f8ed0bf7cd53:4040\">Spark UI</a></p>\n",
              "\n",
              "            <dl>\n",
              "              <dt>Version</dt>\n",
              "                <dd><code>v3.5.3</code></dd>\n",
              "              <dt>Master</dt>\n",
              "                <dd><code>local[*]</code></dd>\n",
              "              <dt>AppName</dt>\n",
              "                <dd><code>FinalProject</code></dd>\n",
              "            </dl>\n",
              "        </div>\n",
              "        \n",
              "            </div>\n",
              "        "
            ]
          },
          "metadata": {},
          "execution_count": 17
        }
      ],
      "source": [
        "# Importing necessary libraries for PySpark\n",
        "import findspark\n",
        "findspark.init()\n",
        "\n",
        "import pyspark\n",
        "from pyspark.sql import SparkSession\n",
        "\n",
        "# Initialize the Spark session\n",
        "spark = SparkSession.builder.appName('FinalProject').getOrCreate()\n",
        "\n",
        "# Check if Spark session is initialized\n",
        "spark\n"
      ]
    },
    {
      "cell_type": "markdown",
      "metadata": {
        "id": "AkSDupo6hw3f"
      },
      "source": [
        "**2.2 - Loading Data into Spark DataFrame**\n",
        "\n",
        "We'll load the data collected from Yelp into a Spark DataFrame."
      ]
    },
    {
      "cell_type": "code",
      "execution_count": 18,
      "metadata": {
        "id": "dk-i4cZSh1fi",
        "colab": {
          "base_uri": "https://localhost:8080/"
        },
        "outputId": "8a3638b9-3c9d-4c43-ff8d-424d7cd5eb29"
      },
      "outputs": [
        {
          "output_type": "stream",
          "name": "stdout",
          "text": [
            "root\n",
            " |-- id: string (nullable = true)\n",
            " |-- alias: string (nullable = true)\n",
            " |-- name: string (nullable = true)\n",
            " |-- image_url: string (nullable = true)\n",
            " |-- is_closed: boolean (nullable = true)\n",
            " |-- url: string (nullable = true)\n",
            " |-- review_count: integer (nullable = true)\n",
            " |-- categories: string (nullable = true)\n",
            " |-- rating: double (nullable = true)\n",
            " |-- coordinates: string (nullable = true)\n",
            " |-- transactions: string (nullable = true)\n",
            " |-- price: string (nullable = true)\n",
            " |-- location: string (nullable = true)\n",
            " |-- phone: string (nullable = true)\n",
            " |-- display_phone: string (nullable = true)\n",
            " |-- distance: string (nullable = true)\n",
            " |-- business_hours: string (nullable = true)\n",
            " |-- attributes: string (nullable = true)\n",
            "\n",
            "+--------------------+--------------------+--------------------+--------------------+---------+--------------------+------------+--------------------+------+--------------------+--------------------+-----+--------------------+------------+--------------+------------------+--------------------+--------------------+\n",
            "|                  id|               alias|                name|           image_url|is_closed|                 url|review_count|          categories|rating|         coordinates|        transactions|price|            location|       phone| display_phone|          distance|      business_hours|          attributes|\n",
            "+--------------------+--------------------+--------------------+--------------------+---------+--------------------+------------+--------------------+------+--------------------+--------------------+-----+--------------------+------------+--------------+------------------+--------------------+--------------------+\n",
            "|dnHSLaWVWnSsOqt5Z...|añejo-cantina-and...|Añejo Cantina & K...|https://s3-media3...|    false|https://www.yelp....|         478|[{'alias': 'cockt...|   4.4|{'latitude': 37.3...|['delivery', 'res...|   $$|{'address1': '313...|+14082613714|(408) 261-3714| 5911.124797630216|[{'open': [{'is_o...|{'business_temp_c...|\n",
            "|cnwaqVOwNqUr0gsBB...|el-cabron-kitchen...|El Cabron Kitchen...|https://s3-media1...|    false|https://www.yelp....|         570|[{'alias': 'mexic...|   4.1|{'latitude': 37.3...|['restaurant_rese...|  $$$|{'address1': '155...|+14083202478|(408) 320-2478|1962.2902970119815|[{'open': [{'is_o...|{'business_temp_c...|\n",
            "|berEiBE0fDM-HiYFE...|goodtime-bar-san-...|        Goodtime Bar|https://s3-media2...|    false|https://www.yelp....|         125|[{'alias': 'wine_...|   4.8|{'latitude': 37.3...|                  []|   $$|{'address1': '30 ...|+14082561266|(408) 256-1266| 2223.823786248024|[{'open': [{'is_o...|{'business_temp_c...|\n",
            "|hFf1M3QLSp7gOsSX5...|serious-dumpling-...|Serious Dumpling ...|https://s3-media2...|    false|https://www.yelp....|        1008|[{'alias': 'chine...|   4.0|{'latitude': 37.3...|['delivery', 'pic...|   $$|{'address1': '49 ...|+14083202023|(408) 320-2023|2263.1899237137577|[{'open': [{'is_o...|{'business_temp_c...|\n",
            "|eiOviOLjM_tBInEXP...|    milan-san-jose-2|               Milan|https://s3-media2...|    false|https://www.yelp....|         133|[{'alias': 'itali...|   4.3|{'latitude': 37.2...|['restaurant_rese...| NULL|{'address1': '171...|+14086774096|(408) 677-4096| 3640.391653556477|[{'open': [{'is_o...|{'business_temp_c...|\n",
            "+--------------------+--------------------+--------------------+--------------------+---------+--------------------+------------+--------------------+------+--------------------+--------------------+-----+--------------------+------------+--------------+------------------+--------------------+--------------------+\n",
            "only showing top 5 rows\n",
            "\n"
          ]
        }
      ],
      "source": [
        "# Load the Yelp CSV data into a Spark DataFrame\n",
        "yelp_data = spark.read.csv('yelp_restaurants_data.csv', header=True, inferSchema=True)\n",
        "\n",
        "# Display the schema and preview the data\n",
        "yelp_data.printSchema()\n",
        "yelp_data.show(5)\n"
      ]
    },
    {
      "cell_type": "code",
      "source": [
        "yelp_data.createOrReplaceTempView(\"retsaurant\")"
      ],
      "metadata": {
        "id": "03bdC5pQ5LgE"
      },
      "execution_count": 19,
      "outputs": []
    },
    {
      "cell_type": "markdown",
      "metadata": {
        "id": "l-koabNC_UMf"
      },
      "source": [
        "**2.3 - Basic Operations on Data Using Spark DataFrame**\n",
        "\n",
        "Here, you can perform basic transformations and operations, such as filtering, grouping, and aggregating.\n",
        "\n",
        "*   Example: Filtering businesses with a rating greater than 4\n",
        "high_rated_businesses = yelp_data.filter(yelp_data['rating'] > 4)\n",
        "high_rated_businesses.show(5)\n",
        "*   Example: Grouping by category and counting the number of businesses\n",
        "category_counts = yelp_data.groupBy('categories').count()\n",
        "category_counts.show()\n",
        "*   Example: Aggregating by category to calculate the average rating\n",
        "average_rating = yelp_data.groupBy('categories').agg({'rating_count': 'avg'})\n",
        "average_rating.show()"
      ]
    },
    {
      "cell_type": "code",
      "execution_count": 27,
      "metadata": {
        "id": "5v3RduUwlOCH",
        "colab": {
          "base_uri": "https://localhost:8080/"
        },
        "outputId": "e144b046-019d-485e-c56a-aba282c59969"
      },
      "outputs": [
        {
          "output_type": "stream",
          "name": "stdout",
          "text": [
            "Restaurants with rating greater than 4.5:\n",
            "+--------------------+--------------------+--------------------+--------------------+---------+--------------------+------------+--------------------+------+--------------------+--------------------+-----+--------------------+------------+--------------+------------------+--------------------+--------------------+\n",
            "|                  id|               alias|                name|           image_url|is_closed|                 url|review_count|          categories|rating|         coordinates|        transactions|price|            location|       phone| display_phone|          distance|      business_hours|          attributes|\n",
            "+--------------------+--------------------+--------------------+--------------------+---------+--------------------+------------+--------------------+------+--------------------+--------------------+-----+--------------------+------------+--------------+------------------+--------------------+--------------------+\n",
            "|berEiBE0fDM-HiYFE...|goodtime-bar-san-...|        Goodtime Bar|https://s3-media2...|    false|https://www.yelp....|         125|[{'alias': 'wine_...|   4.8|{'latitude': 37.3...|                  []|   $$|{'address1': '30 ...|+14082561266|(408) 256-1266| 2223.823786248024|[{'open': [{'is_o...|{'business_temp_c...|\n",
            "|RwhG2nf9ZrRUfqkNu...|eos-and-nyx-san-jose|           Eos & Nyx|https://s3-media2...|    false|https://www.yelp....|          48|[{'alias': 'cockt...|   4.6|{'latitude': 37.3...|                  []| NULL|{'address1': '201...|        NULL|          NULL|1854.9354168100033|[{'open': [{'is_o...|{'business_temp_c...|\n",
            "|Ahga5g0HufU_G7S1n...|trattoria-360-cam...|       Trattoria 360|https://s3-media3...|    false|https://www.yelp....|         614|[{'alias': 'itali...|   4.6|{'latitude': 37.2...|['delivery', 'pic...|  $$$|{'address1': '360...|+14084298671|(408) 429-8671| 6151.977207532255|[{'open': [{'is_o...|{'business_temp_c...|\n",
            "|nzf1D-9MKmDEbFjLt...|fox-tale-fermenta...|Fox Tale Fermenta...|https://s3-media1...|    false|https://www.yelp....|         110|[{'alias': 'gourm...|   4.8|{'latitude': 37.3...|                  []|   $$|{'address1': '30 ...|+14082160158|(408) 216-0158| 2236.833564041456|[{'open': [{'is_o...|{'business_temp_c...|\n",
            "|dhgpgveMAPtmaan72...|inkas-restaurant-...|   Inka's Restaurant|https://s3-media1...|    false|https://www.yelp....|         172|[{'alias': 'peruv...|   4.6|{'latitude': 37.3...|['restaurant_rese...|   $$|{'address1': '700...|+14083202134|(408) 320-2134| 5703.492152110178|[{'open': [{'is_o...|{'business_temp_c...|\n",
            "|kZnEh2bTHHFCA7nLL...|achilles-santa-clara|            ACHILLES|https://s3-media4...|    false|https://www.yelp....|        2256|[{'alias': 'medit...|   4.6|{'latitude': 37.3...|['pickup', 'deliv...|   $$|{'address1': '252...|+14089842204|(408) 984-2204| 6266.384936298224|[{'open': [{'is_o...|{'business_temp_c...|\n",
            "|bTshR0PL1UY_2npTo...|kumako-ramen-den-...|    Kumako Ramen Den|https://s3-media2...|    false|https://www.yelp....|         797|[{'alias': 'ramen...|   4.6|{'latitude': 37.3...|['delivery', 'pic...|   $$|{'address1': '487...|+14083525290|(408) 352-5290| 7878.849004037136|[{'open': [{'is_o...|{'business_temp_c...|\n",
            "|p4YSXyBB87d-pqbaW...|rise-woodfire-san...|       Rise Woodfire|https://s3-media1...|    false|https://www.yelp....|          40|[{'alias': 'pizza...|   4.7|{'latitude': 37.3...|['pickup', 'deliv...| NULL|{'address1': '390...|+14088823949|(408) 882-3949|10145.518632377809|[{'open': [{'is_o...|{'business_temp_c...|\n",
            "|SUn__vFkNGgQXG0rm...|   pho-life-san-jose|            PHO LIFE|https://s3-media4...|    false|https://www.yelp....|          16|[{'alias': 'vietn...|   4.9|{'latitude': 37.3...|['pickup', 'deliv...| NULL|{'address1': '167...|+16692636179|(669) 263-6179| 6276.407865801516|[{'open': [{'is_o...|{'business_temp_c...|\n",
            "|Bysp8a8CJtHm7d1YP...|shabu-time-san-jo...|          Shabu Time|https://s3-media2...|    false|https://www.yelp....|         570|[{'alias': 'japan...|   4.6|{'latitude': 37.3...|['delivery', 'pic...|   $$|{'address1': '171...|+14082751888|(408) 275-1888|3690.3097769381375|[{'open': [{'is_o...|{'business_temp_c...|\n",
            "+--------------------+--------------------+--------------------+--------------------+---------+--------------------+------------+--------------------+------+--------------------+--------------------+-----+--------------------+------------+--------------+------------------+--------------------+--------------------+\n",
            "only showing top 10 rows\n",
            "\n",
            "Number of businesses per category:\n",
            "+--------------------+-----+\n",
            "|          categories|count|\n",
            "+--------------------+-----+\n",
            "|[{'alias': 'cajun...|    2|\n",
            "|[{'alias': 'foodd...|    1|\n",
            "|[{'alias': 'frenc...|    2|\n",
            "|[{'alias': 'cajun...|    2|\n",
            "|[{'alias': 'asian...|    1|\n",
            "|[{'alias': 'korea...|   18|\n",
            "|[{'alias': 'noodl...|    2|\n",
            "|[{'alias': 'bubbl...|    1|\n",
            "|[{'alias': 'sushi...|    1|\n",
            "|[{'alias': 'trada...|    1|\n",
            "+--------------------+-----+\n",
            "only showing top 10 rows\n",
            "\n",
            "Average rating by category:\n",
            "+--------------------+-----------------+\n",
            "|          categories|      avg(rating)|\n",
            "+--------------------+-----------------+\n",
            "|[{'alias': 'cajun...|              3.6|\n",
            "|[{'alias': 'foodd...|              4.3|\n",
            "|[{'alias': 'frenc...|             4.05|\n",
            "|[{'alias': 'cajun...|              4.3|\n",
            "|[{'alias': 'asian...|              4.6|\n",
            "|[{'alias': 'korea...|4.049999999999999|\n",
            "|[{'alias': 'noodl...|4.199999999999999|\n",
            "|[{'alias': 'bubbl...|              4.8|\n",
            "|[{'alias': 'sushi...|              4.7|\n",
            "|[{'alias': 'trada...|              4.3|\n",
            "+--------------------+-----------------+\n",
            "only showing top 10 rows\n",
            "\n",
            "Number of businesses per price range:\n",
            "+-----+-----+\n",
            "|price|count|\n",
            "+-----+-----+\n",
            "|   $$|  546|\n",
            "|  $$$|  107|\n",
            "| $$$$|   24|\n",
            "| NULL|  307|\n",
            "|    $|   16|\n",
            "+-----+-----+\n",
            "\n",
            "The most common business category:\n",
            "+--------------------+-----+\n",
            "|          categories|count|\n",
            "+--------------------+-----+\n",
            "|[{'alias': 'vietn...|   23|\n",
            "+--------------------+-----+\n",
            "\n"
          ]
        }
      ],
      "source": [
        "# 1.\n",
        "high_rated_restaurants = yelp_data.filter(yelp_data['rating'] > 4.5)\n",
        "print(\"Restaurants with rating greater than 4.5:\")\n",
        "high_rated_restaurants.show(10)\n",
        "\n",
        "# 2.\n",
        "counting_categories = yelp_data.groupBy('categories').count()\n",
        "print(\"Number of businesses per category:\")\n",
        "counting_categories.show(10)\n",
        "\n",
        "# 3.\n",
        "average_rating = yelp_data.groupBy('categories').agg({'rating': 'avg'})\n",
        "print(\"Average rating by category:\")\n",
        "average_rating.show(10)\n",
        "\n",
        "# 4.\n",
        "price_range_counts = yelp_data.groupBy('price').count()\n",
        "print(\"Number of businesses per price range:\")\n",
        "price_range_counts.show()\n",
        "\n",
        "# 5.\n",
        "most_common_category = yelp_data.groupBy('categories').count().orderBy('count', ascending=False).limit(1)\n",
        "print(\"The most common business category:\")\n",
        "most_common_category.show()\n"
      ]
    },
    {
      "cell_type": "markdown",
      "metadata": {
        "id": "BcJW-qmOkOYG"
      },
      "source": [
        "### Part Three: Data Analysis Using Spark SQL\n",
        "**3.1 - Register DataFrame as Temp View**\n",
        "\n",
        "We need to register the Spark DataFrame as a temporary SQL view to run SQL queries."
      ]
    },
    {
      "cell_type": "code",
      "execution_count": 28,
      "metadata": {
        "id": "-I0PphthkZ9w"
      },
      "outputs": [],
      "source": [
        "# Register DataFrame as a temporary SQL view\n",
        "yelp_data.createOrReplaceTempView(\"yelp_businesses\")\n"
      ]
    },
    {
      "cell_type": "markdown",
      "metadata": {
        "id": "efq8l3PJlR0W"
      },
      "source": [
        "**3.2 - Spark SQL Queries for Data Analysis**\n",
        "\n",
        "Now, we can perform SQL queries to analyze the Yelp data. You need to perform an analysis of your data using Spark SQL and you should perform **a minimum of 10 SQL operations** to gain meaningful insights from the data you extraction from part one."
      ]
    },
    {
      "cell_type": "code",
      "execution_count": 29,
      "metadata": {
        "id": "O3rWVEjQlZW5",
        "colab": {
          "base_uri": "https://localhost:8080/"
        },
        "outputId": "32936cdb-a920-4f06-eb06-aa5f60db774c"
      },
      "outputs": [
        {
          "output_type": "stream",
          "name": "stdout",
          "text": [
            "+--------------------+------+-----+--------------------+\n",
            "|                name|rating|price|            location|\n",
            "+--------------------+------+-----+--------------------+\n",
            "|May Chieu Noodles...|   5.0| NULL|{'address1': '410...|\n",
            "|Cosmic Cuisine Halal|   5.0| NULL|{'address1': '96 ...|\n",
            "|Carlitos Tijuana ...|   5.0| NULL|{'address1': '265...|\n",
            "|      Slanging Dough|   5.0| NULL|{'address1': '170...|\n",
            "|  Medallo Restaurant|   5.0| NULL|{'address1': '186...|\n",
            "+--------------------+------+-----+--------------------+\n",
            "\n",
            "+-----+--------------+\n",
            "|price|num_businesses|\n",
            "+-----+--------------+\n",
            "|   $$|           546|\n",
            "|  $$$|           107|\n",
            "| $$$$|            24|\n",
            "| NULL|           307|\n",
            "|    $|            16|\n",
            "+-----+--------------+\n",
            "\n",
            "+--------------------+--------------------+--------------------+--------------------+---------+--------------------+------------+--------------------+------+--------------------+------------+-----+--------------------+------------+--------------+------------------+--------------------+--------------------+\n",
            "|                  id|               alias|                name|           image_url|is_closed|                 url|review_count|          categories|rating|         coordinates|transactions|price|            location|       phone| display_phone|          distance|      business_hours|          attributes|\n",
            "+--------------------+--------------------+--------------------+--------------------+---------+--------------------+------------+--------------------+------+--------------------+------------+-----+--------------------+------------+--------------+------------------+--------------------+--------------------+\n",
            "|bN2kWkTxmXgtOU-kM...|las-delicias-de-t...|Las Delicias De T...|https://s3-media3...|    false|https://www.yelp....|         271|[{'alias': 'mexic...|   4.5|{'latitude': 37.3...|          []|    $|{'address1': '300...|+14084175956|(408) 417-5956| 1690.396133088272|[{'open': [{'is_o...|{'business_temp_c...|\n",
            "|TF08Dl8-kv665gRX3...| cafes-quan-san-jose|          Cafes Quan|https://s3-media1...|    false|https://www.yelp....|         142|[{'alias': 'coffe...|   4.5|{'latitude': 37.3...|          []|    $|{'address1': '181...|+14086132692|(408) 613-2692| 5494.780437308732|[{'open': [{'is_o...|{'business_temp_c...|\n",
            "|1l7wjRxOLYsQ6jKJA...|skewers-and-brew-...|      Skewers & Brew|https://s3-media3...|    false|https://www.yelp....|         143|[{'alias': 'chine...|   4.3|{'latitude': 37.3...|          []|    $|{'address1': '65 ...|+14089316830|(408) 931-6830| 2096.764500391444|[{'open': [{'is_o...|{'business_temp_c...|\n",
            "|wYf3QNitstURx3oFD...|campus-burgers-sa...|      Campus Burgers|https://s3-media4...|    false|https://www.yelp....|         226|[{'alias': 'burge...|   4.2|{'latitude': 37.3...|          []|    $|{'address1': '108...|+14083525507|(408) 352-5507|1875.5279730083153|[{'open': [{'is_o...|{'business_temp_c...|\n",
            "|77cnAFvoB60jqnyua...|  cam-hung-sunnyvale|            Cam Hung|https://s3-media3...|    false|https://www.yelp....|        1502|[{'alias': 'vietn...|   4.2|{'latitude': 37.3...|  ['pickup']|    $|{'address1': '903...|+14087358989|(408) 735-8989|1250.8559095887606|[{'open': [{'is_o...|{'business_temp_c...|\n",
            "+--------------------+--------------------+--------------------+--------------------+---------+--------------------+------------+--------------------+------+--------------------+------------+-----+--------------------+------------+--------------+------------------+--------------------+--------------------+\n",
            "only showing top 5 rows\n",
            "\n"
          ]
        }
      ],
      "source": [
        "# Example SQL Query: Get top 5 businesses by rating\n",
        "top_rated_businesses = spark.sql(\"\"\"\n",
        "SELECT name, rating, price, location\n",
        "FROM yelp_businesses\n",
        "WHERE rating > 4\n",
        "ORDER BY rating DESC\n",
        "LIMIT 5\n",
        "\"\"\")\n",
        "top_rated_businesses.show()\n",
        "\n",
        "# Example SQL Query: Count the number of businesses by price range\n",
        "price_range_counts = spark.sql(\"\"\"\n",
        "SELECT price, COUNT(*) as num_businesses\n",
        "FROM yelp_businesses\n",
        "GROUP BY price\n",
        "\"\"\")\n",
        "price_range_counts.show()\n",
        "\n",
        "# Example SQL Query: Filter businesses with the '$' price range - indicating affordable businesses.\n",
        "yelp_data_with_price_class = spark.sql(\"\"\"\n",
        "    SELECT *\n",
        "    FROM yelp_businesses\n",
        "    WHERE price IN ('$')\n",
        "\"\"\")\n",
        "yelp_data_with_price_class.show(5)\n"
      ]
    },
    {
      "cell_type": "code",
      "source": [
        "# 10 SQL operations to gain meaningful insights from the data you extraction from part one.\n",
        "\n",
        "# 1. Find the top-rated restaurants overall:\n",
        "top_rated_restaurants = spark.sql(\"\"\"\n",
        "    SELECT name, rating, price\n",
        "    FROM yelp_businesses\n",
        "    ORDER BY rating DESC\n",
        "    LIMIT 10\n",
        "\"\"\")\n",
        "top_rated_restaurants.show()\n",
        "\n",
        "# 2. Count the number of restaurants by their open status:\n",
        "open_status_counts = spark.sql(\"\"\"\n",
        "    SELECT is_closed, COUNT(*) as num_businesses\n",
        "    FROM yelp_businesses\n",
        "    GROUP BY is_closed\n",
        "\"\"\")\n",
        "open_status_counts.show()\n",
        "\n",
        "# 3. Get restaurants with the highest review count:\n",
        "highest_reviewed = spark.sql(\"\"\"\n",
        "    SELECT name, review_count, rating\n",
        "    FROM yelp_businesses\n",
        "    ORDER BY review_count DESC\n",
        "    LIMIT 10\n",
        "\"\"\")\n",
        "highest_reviewed.show()\n",
        "\n",
        "# 4. List restaurants with a specific category (e.g., Italian):\n",
        "italian_restaurants = spark.sql(\"\"\"\n",
        "    SELECT name, rating, price\n",
        "    FROM yelp_businesses\n",
        "    WHERE categories LIKE '%Italian%'\n",
        "    ORDER BY rating DESC\n",
        "    LIMIT 5\n",
        "\"\"\")\n",
        "italian_restaurants.show()\n",
        "\n",
        "# 5. Find restaurants within a specific price range (e.g., '$$'):\n",
        "affordable_restaurants = spark.sql(\"\"\"\n",
        "    SELECT name, rating, review_count\n",
        "    FROM yelp_businesses\n",
        "    WHERE price = '$$'\n",
        "    ORDER BY rating DESC\n",
        "    LIMIT 10\n",
        "\"\"\")\n",
        "affordable_restaurants.show()\n",
        "\n",
        "# 6. Get the average rating of all restaurants:\n",
        "average_rating = spark.sql(\"\"\"\n",
        "    SELECT AVG(rating) as average_rating\n",
        "    FROM yelp_businesses\n",
        "\"\"\")\n",
        "average_rating.show()\n",
        "\n",
        "# 7. Count the number of restaurants in each category:\n",
        "category_counts = spark.sql(\"\"\"\n",
        "    SELECT categories, COUNT(*) as num_businesses\n",
        "    FROM yelp_businesses\n",
        "    GROUP BY categories\n",
        "\"\"\")\n",
        "category_counts.show()\n",
        "\n",
        "# 8. Find restaurants with a rating of 4 or higher and delivery options:\n",
        "delivery_restaurants = spark.sql(\"\"\"\n",
        "    SELECT name, rating, categories\n",
        "    FROM yelp_businesses\n",
        "    WHERE rating >= 4 AND categories LIKE '%delivery%'\n",
        "    ORDER BY rating DESC\n",
        "\"\"\")\n",
        "delivery_restaurants.show()\n",
        "\n",
        "# 9. List restaurants that are currently open (not closed):\n",
        "currently_open = spark.sql(\"\"\"\n",
        "    SELECT name, rating, price\n",
        "    FROM yelp_businesses\n",
        "    WHERE is_closed = FALSE\n",
        "    ORDER BY rating DESC\n",
        "    LIMIT 10\n",
        "\"\"\")\n",
        "currently_open.show()\n",
        "\n",
        "# 10. Get the details of restaurants that have received the most recent reviews:\n",
        "recent_reviews = spark.sql(\"\"\"\n",
        "    SELECT name, rating, review_count\n",
        "    FROM yelp_businesses\n",
        "    ORDER BY review_count DESC\n",
        "    LIMIT 5\n",
        "\"\"\")\n",
        "recent_reviews.show()\n"
      ],
      "metadata": {
        "colab": {
          "base_uri": "https://localhost:8080/"
        },
        "id": "hVAifawx8uLf",
        "outputId": "40b0f1b3-f513-4dc8-9410-687abbba14bf"
      },
      "execution_count": 33,
      "outputs": [
        {
          "output_type": "stream",
          "name": "stdout",
          "text": [
            "+--------------------+------+-----+\n",
            "|                name|rating|price|\n",
            "+--------------------+------+-----+\n",
            "|  Medallo Restaurant|   5.0| NULL|\n",
            "|   Carnitas El Gordo|   5.0| NULL|\n",
            "|         Agua Salada|   5.0| NULL|\n",
            "|Silvas Brazilian ...|   5.0| NULL|\n",
            "|Cosmic Cuisine Halal|   5.0| NULL|\n",
            "|May Chieu Noodles...|   5.0| NULL|\n",
            "|Tia Juanitas Mexi...|   5.0| NULL|\n",
            "|Carlitos Tijuana ...|   5.0| NULL|\n",
            "| Tono coffee project|   5.0| NULL|\n",
            "|      Slanging Dough|   5.0| NULL|\n",
            "+--------------------+------+-----+\n",
            "\n",
            "+---------+--------------+\n",
            "|is_closed|num_businesses|\n",
            "+---------+--------------+\n",
            "|    false|          1000|\n",
            "+---------+--------------+\n",
            "\n",
            "+--------------------+------------+------+\n",
            "|                name|review_count|rating|\n",
            "+--------------------+------------+------+\n",
            "|            DishDash|        4706|   4.4|\n",
            "|            DishDash|        4706|   4.4|\n",
            "|            DishDash|        4706|   4.4|\n",
            "|Orchard City Kitchen|        4643|   4.0|\n",
            "|Orchard City Kitchen|        4643|   4.0|\n",
            "|  The Breakfast Club|        4154|   3.9|\n",
            "|           The Table|        3748|   3.9|\n",
            "|           The Table|        3748|   3.9|\n",
            "|Lazy Dog Restaura...|        3643|   3.9|\n",
            "|Lazy Dog Restaura...|        3643|   3.9|\n",
            "+--------------------+------------+------+\n",
            "\n",
            "+--------------------+------+-----+\n",
            "|                name|rating|price|\n",
            "+--------------------+------+-----+\n",
            "|Ristorante Miyaza...|   5.0| NULL|\n",
            "|Ristorante Miyaza...|   5.0| NULL|\n",
            "|       Trattoria 360|   4.6|  $$$|\n",
            "|       Trattoria 360|   4.6|  $$$|\n",
            "|       Trattoria 360|   4.6|  $$$|\n",
            "+--------------------+------+-----+\n",
            "\n",
            "+--------------------+------+------------+\n",
            "|                name|rating|review_count|\n",
            "+--------------------+------+------------+\n",
            "|    The Ma'lawah Bar|   4.9|          52|\n",
            "|    The Ma'lawah Bar|   4.9|          52|\n",
            "|Crust - Fresh Sou...|   4.9|          93|\n",
            "|California MoMo K...|   4.8|         145|\n",
            "|Fox Tale Fermenta...|   4.8|         110|\n",
            "|            Home Eat|   4.8|         251|\n",
            "|        Goodtime Bar|   4.8|         125|\n",
            "|            Home Eat|   4.8|         251|\n",
            "|            Home Eat|   4.8|         251|\n",
            "|        Goodtime Bar|   4.8|         125|\n",
            "+--------------------+------+------------+\n",
            "\n",
            "+-----------------+\n",
            "|   average_rating|\n",
            "+-----------------+\n",
            "|4.217100000000005|\n",
            "+-----------------+\n",
            "\n",
            "+--------------------+--------------+\n",
            "|          categories|num_businesses|\n",
            "+--------------------+--------------+\n",
            "|[{'alias': 'cajun...|             2|\n",
            "|[{'alias': 'foodd...|             1|\n",
            "|[{'alias': 'frenc...|             2|\n",
            "|[{'alias': 'cajun...|             2|\n",
            "|[{'alias': 'asian...|             1|\n",
            "|[{'alias': 'korea...|            18|\n",
            "|[{'alias': 'noodl...|             2|\n",
            "|[{'alias': 'bubbl...|             1|\n",
            "|[{'alias': 'sushi...|             1|\n",
            "|[{'alias': 'trada...|             1|\n",
            "|[{'alias': 'pizza...|             1|\n",
            "|[{'alias': 'newam...|             2|\n",
            "|[{'alias': 'indpa...|             2|\n",
            "|[{'alias': 'newme...|             1|\n",
            "|[{'alias': 'sandw...|             2|\n",
            "|[{'alias': 'break...|             1|\n",
            "|[{'alias': 'foodt...|             3|\n",
            "|[{'alias': 'halal...|             1|\n",
            "|[{'alias': 'pizza...|             1|\n",
            "|[{'alias': 'loung...|             1|\n",
            "+--------------------+--------------+\n",
            "only showing top 20 rows\n",
            "\n",
            "+-----------------+------+--------------------+\n",
            "|             name|rating|          categories|\n",
            "+-----------------+------+--------------------+\n",
            "|Carnitas El Gordo|   5.0|[{'alias': 'foodd...|\n",
            "|          Palmita|   5.0|[{'alias': 'mexic...|\n",
            "|        678 House|   5.0|[{'alias': 'foodd...|\n",
            "|          Palmita|   5.0|[{'alias': 'mexic...|\n",
            "| Sunshine HK Cafe|   4.3|[{'alias': 'foodd...|\n",
            "+-----------------+------+--------------------+\n",
            "\n",
            "+--------------------+------+-----+\n",
            "|                name|rating|price|\n",
            "+--------------------+------+-----+\n",
            "|  Medallo Restaurant|   5.0| NULL|\n",
            "|   Carnitas El Gordo|   5.0| NULL|\n",
            "|         Agua Salada|   5.0| NULL|\n",
            "|Silvas Brazilian ...|   5.0| NULL|\n",
            "|Cosmic Cuisine Halal|   5.0| NULL|\n",
            "|May Chieu Noodles...|   5.0| NULL|\n",
            "|Tia Juanitas Mexi...|   5.0| NULL|\n",
            "|Carlitos Tijuana ...|   5.0| NULL|\n",
            "| Tono coffee project|   5.0| NULL|\n",
            "|      Slanging Dough|   5.0| NULL|\n",
            "+--------------------+------+-----+\n",
            "\n",
            "+--------------------+------+------------+\n",
            "|                name|rating|review_count|\n",
            "+--------------------+------+------------+\n",
            "|            DishDash|   4.4|        4706|\n",
            "|            DishDash|   4.4|        4706|\n",
            "|            DishDash|   4.4|        4706|\n",
            "|Orchard City Kitchen|   4.0|        4643|\n",
            "|Orchard City Kitchen|   4.0|        4643|\n",
            "+--------------------+------+------------+\n",
            "\n"
          ]
        }
      ]
    },
    {
      "cell_type": "markdown",
      "metadata": {
        "id": "z9yha7Rzl5it"
      },
      "source": [
        "**3.3 - Data Visualization**\n",
        "\n",
        "You can visualize the results of your Spark SQL analysis using libraries like Matplotlib or Seaborn."
      ]
    },
    {
      "cell_type": "code",
      "execution_count": 52,
      "metadata": {
        "id": "y8cmDdsmmO3m",
        "colab": {
          "base_uri": "https://localhost:8080/",
          "height": 647
        },
        "outputId": "055f2109-f755-4fb9-88e7-4f3971d2b53f"
      },
      "outputs": [
        {
          "output_type": "display_data",
          "data": {
            "text/plain": [
              "<Figure size 1500x700 with 1 Axes>"
            ],
            "image/png": "[encoded data removed]"
          },
          "metadata": {}
        }
      ],
      "source": [
        "import matplotlib.pyplot as plt\n",
        "import seaborn as sns\n",
        "\n",
        "# Execute the SQL query to get top 5 rated businesses\n",
        "top_rated_businesses = spark.sql(\"\"\"\n",
        "    SELECT name, rating, price, location\n",
        "    FROM yelp_businesses\n",
        "    WHERE rating > 4.5\n",
        "    ORDER BY rating DESC\n",
        "    LIMIT 5\n",
        "\"\"\")\n",
        "\n",
        "# Convert Spark DataFrame to Pandas DataFrame for visualization\n",
        "top_rated_businesses_pandas = top_rated_businesses.toPandas()\n",
        "\n",
        "# Plotting the number of businesses per category\n",
        "plt.figure(figsize=(15,7))\n",
        "sns.barplot(x='name', y='rating', data=top_rated_businesses_pandas)\n",
        "plt.title('Top 5 Restaurants by Rating (Above 4.5)', fontsize=16)\n",
        "plt.xlabel('Business Name', fontsize=12)\n",
        "plt.ylabel('Rating', fontsize=12)\n",
        "plt.show()\n"
      ]
    },
    {
      "cell_type": "code",
      "source": [
        "import matplotlib.pyplot as plt\n",
        "import seaborn as sns\n",
        "\n",
        "# Execute the SQL query to get top italian restaurants which has rating above than 4\n",
        "top_italian_restaurants = spark.sql(\"\"\"\n",
        "    SELECT name, rating, review_count, price, location\n",
        "    FROM yelp_businesses\n",
        "    WHERE rating >= 4 AND categories LIKE '%Italian%'\n",
        "    ORDER BY rating DESC\n",
        "    LIMIT 5\n",
        "\"\"\")\n",
        "\n",
        "# Convert Spark DataFrame to Pandas DataFrame for visualization\n",
        "top_italian_restaurants_pandas = top_italian_restaurants.toPandas()\n",
        "\n",
        "# Plotting the number of businesses per category\n",
        "plt.figure(figsize=(15,7))\n",
        "sns.barplot(x='name', y='rating', data=top_italian_restaurants_pandas)\n",
        "plt.title('Top 5 Italian Restaurants by Rating (Above 4.0)', fontsize=16)\n",
        "plt.xlabel('Restaurants', fontsize=12)\n",
        "plt.ylabel('Rating', fontsize=12)\n",
        "plt.show()\n"
      ],
      "metadata": {
        "colab": {
          "base_uri": "https://localhost:8080/",
          "height": 647
        },
        "id": "hW2BTOC6VpUn",
        "outputId": "0414a21d-29f5-40bf-afab-937d4129a701"
      },
      "execution_count": 73,
      "outputs": [
        {
          "output_type": "display_data",
          "data": {
            "text/plain": [
              "<Figure size 1500x700 with 1 Axes>"
            ],
            "image/png": "[encoded data removed]"
          },
          "metadata": {}
        }
      ]
    },
    {
      "cell_type": "code",
      "source": [
        "import matplotlib.pyplot as plt\n",
        "import seaborn as sns\n",
        "\n",
        "# Execute the SQL query to get the restaurants which has highest distance from the city\n",
        "restaurants = spark.sql(\"\"\"\n",
        "    SELECT name, distance\n",
        "    FROM yelp_businesses\n",
        "    WHERE\n",
        "    distance > 1000\n",
        "    ORDER BY distance DESC\n",
        "    LIMIT 5\n",
        "\"\"\")\n",
        "\n",
        "# Convert Spark DataFrame to Pandas DataFrame for visualization\n",
        "restaurants_pandas = restaurants.toPandas()\n",
        "\n",
        "# Plotting the number of businesses per category\n",
        "plt.figure(figsize=(15, 7))\n",
        "sns.barplot(x='name', y='distance', data=restaurants_pandas, palette='viridis')\n",
        "plt.title('Restaurants by highest distance ', fontsize=16)\n",
        "plt.xlabel('Restaurants', fontsize=12)\n",
        "plt.ylabel('distance', fontsize=12)\n",
        "plt.xticks(rotation=15)\n",
        "plt.show()\n"
      ],
      "metadata": {
        "colab": {
          "base_uri": "https://localhost:8080/",
          "height": 779
        },
        "id": "tBo6rReObvKK",
        "outputId": "18086cfd-6ff1-47fe-ccff-6dc315300eb2"
      },
      "execution_count": 102,
      "outputs": [
        {
          "output_type": "stream",
          "name": "stderr",
          "text": [
            "<ipython-input-102-aee565e25188>:19: FutureWarning: \n",
            "\n",
            "Passing `palette` without assigning `hue` is deprecated and will be removed in v0.14.0. Assign the `x` variable to `hue` and set `legend=False` for the same effect.\n",
            "\n",
            "  sns.barplot(x='name', y='distance', data=restaurants_pandas, palette='viridis')\n"
          ]
        },
        {
          "output_type": "display_data",
          "data": {
            "text/plain": [
              "<Figure size 1500x700 with 1 Axes>"
            ],
            "image/png": "[encoded data removed]"
          },
          "metadata": {}
        }
      ]
    },
    {
      "cell_type": "markdown",
      "metadata": {
        "id": "9VuUHYtGmaKU"
      },
      "source": [
        "Conclusion & Next Steps\n",
        "\n",
        "### Conclusion\n",
        "Summarize the key findings from your analysis, explaining how they support your business idea. For example:\n",
        "\n",
        "- **Top Rated Businesses**: We built a many-to-many relationship between restaurants with a rating column, thereby guaranteeing the user gets results featuring highly rated and most credible restaurants. The above directly solves the user’s problem of getting quality recommendations.\n",
        "- **Category Insights**: The data analysis of the categories column exposed the most requested kinds of restaurants, like Italian, Mexican, or Vegan, which allows giving more customized recommendations for the traveller and increases the range of available options for visitors.\n",
        "- **Location and Distance**: From the two columns of coordinate and distance, the system is capable of suggesting to the user restaurants that exist in or around the user’s area of locoication. The new sort causes do improve the user experience due to the focus of distance from the user, in this case helping those who use applications in new cities.\n",
        "- **Price Insights**: The price column makes it possible to filter according to the price so as to make recommendations inexpensive to the user but at the same time catering for the users budget and choice.\n",
        "\n",
        "These results also prove the feasibility of the recommended system and show how the analyzed information can be used to generate a location-sensitive and individual eating experience.\n",
        "\n",
        "### Future Steps\n",
        "- **Expand Data Collection**: Combine further information about the number of research, working time, and customer feedback to expand the wealth of information and the variety of recommendations to clients.\n",
        "- **Improve Recommendations**: As a recommendation model, it is vital to create a new product, with rating, categories, price, and distance as the basic attributes to meet the customer’s personalized needs and travel itineraries.\n",
        "- **Interactive Map Features:** This is best incorporated in the coordinate column where there is a map view of restaurants; their positions are marked and distance highlighted to aid movement.\n",
        "- **Improve User Filters:** Include filters for the possibility of choosing a restaurant by the type of cuisine for the needed nutrient value, the selected restaurant’s popularity among the users, and the working hours of the restaurant as to reflect the variants of user requirements.\n",
        "- **Feedback and Optimization:** Users’ feedbacks should be collected based on the recommendations provided by the system in order to increase the possibility of its accurate outcome and satisfaction levels are to be enhanced in subsequent cycles.\n",
        "For these issues, it is necessary to update the current trends registered in cuisines popularity rates and the preferences of users.\n",
        "\n",
        "These next steps will make the recommendation system a complete travel guide for the diners and help them find restaurants that suit their taste and are located nearby.\n"
      ]
    }
  ],
  "metadata": {
    "colab": {
      "provenance": []
    },
    "kernelspec": {
      "display_name": "Python 3",
      "name": "python3"
    },
    "language_info": {
      "name": "python"
    }
  },
  "nbformat": 4,
  "nbformat_minor": 0
}